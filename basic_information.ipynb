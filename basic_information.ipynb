{
 "metadata": {
  "language_info": {
   "codemirror_mode": {
    "name": "ipython",
    "version": 3
   },
   "file_extension": ".py",
   "mimetype": "text/x-python",
   "name": "python",
   "nbconvert_exporter": "python",
   "pygments_lexer": "ipython3",
   "version": "3.8.0"
  },
  "orig_nbformat": 2,
  "kernelspec": {
   "name": "python38064bit2094f3abaaf046029ece37f59d5e2d8a",
   "display_name": "Python 3.8.0 64-bit"
  },
  "metadata": {
   "interpreter": {
    "hash": "353f5eaf29fef92715e1ca53015220967548ce8ffbff2427423b21cd69ded8e3"
   }
  }
 },
 "nbformat": 4,
 "nbformat_minor": 2,
 "cells": [
  {
   "cell_type": "code",
   "execution_count": 1,
   "metadata": {},
   "outputs": [
    {
     "output_type": "stream",
     "name": "stdout",
     "text": [
      "Hello python!\n"
     ]
    }
   ],
   "source": [
    "# Hello python!\n",
    "print(\"Hello python!\")"
   ]
  },
  {
   "cell_type": "code",
   "execution_count": 2,
   "metadata": {},
   "outputs": [
    {
     "output_type": "stream",
     "name": "stdout",
     "text": [
      "['False', 'None', 'True', 'and', 'as', 'assert', 'async', 'await', 'break', 'class', 'continue', 'def', 'del', 'elif', 'else', 'except', 'finally', 'for', 'from', 'global', 'if', 'import', 'in', 'is', 'lambda', 'nonlocal', 'not', 'or', 'pass', 'raise', 'return', 'try', 'while', 'with', 'yield']\n"
     ]
    }
   ],
   "source": [
    "# print the keyword list of python3\n",
    "import keyword\n",
    "print(keyword.kwlist)"
   ]
  },
  {
   "cell_type": "code",
   "execution_count": 13,
   "metadata": {},
   "outputs": [
    {
     "output_type": "stream",
     "name": "stdout",
     "text": [
      "test\nundefined order\n"
     ]
    }
   ],
   "source": [
    "# if, else, and input\n",
    "str=input(\"please input your order\")\n",
    "print(str)\n",
    "if str==\"readme\":\n",
    "    print(\"this is my test about python3\")\n",
    "elif str==\"version\":\n",
    "    print(\"V1.0.1\")\n",
    "else:\n",
    "    print(\"undefined order\")"
   ]
  },
  {
   "cell_type": "code",
   "execution_count": 21,
   "metadata": {},
   "outputs": [
    {
     "output_type": "stream",
     "name": "stdout",
     "text": [
      "3.8.0 (tags/v3.8.0:fa919fd, Oct 14 2019, 19:37:50) [MSC v.1916 64 bit (AMD64)] \n ['c:\\\\Users\\\\hushi\\\\Desktop\\\\learn_python', 'c:\\\\Users\\\\hushi\\\\.vscode\\\\extensions\\\\ms-toolsai.jupyter-2021.5.702919634\\\\pythonFiles', 'c:\\\\Users\\\\hushi\\\\.vscode\\\\extensions\\\\ms-toolsai.jupyter-2021.5.702919634\\\\pythonFiles', 'c:\\\\Users\\\\hushi\\\\.vscode\\\\extensions\\\\ms-toolsai.jupyter-2021.5.702919634\\\\pythonFiles\\\\lib\\\\python', 'C:\\\\Users\\\\hushi\\\\AppData\\\\Local\\\\Programs\\\\Python\\\\Python38\\\\python38.zip', 'C:\\\\Users\\\\hushi\\\\AppData\\\\Local\\\\Programs\\\\Python\\\\Python38\\\\DLLs', 'C:\\\\Users\\\\hushi\\\\AppData\\\\Local\\\\Programs\\\\Python\\\\Python38\\\\lib', 'C:\\\\Users\\\\hushi\\\\AppData\\\\Local\\\\Programs\\\\Python\\\\Python38', '', 'C:\\\\Users\\\\hushi\\\\AppData\\\\Roaming\\\\Python\\\\Python38\\\\site-packages', 'C:\\\\Users\\\\hushi\\\\AppData\\\\Roaming\\\\Python\\\\Python38\\\\site-packages\\\\win32', 'C:\\\\Users\\\\hushi\\\\AppData\\\\Roaming\\\\Python\\\\Python38\\\\site-packages\\\\win32\\\\lib', 'C:\\\\Users\\\\hushi\\\\AppData\\\\Roaming\\\\Python\\\\Python38\\\\site-packages\\\\Pythonwin', 'C:\\\\Users\\\\hushi\\\\AppData\\\\Local\\\\Programs\\\\Python\\\\Python38\\\\lib\\\\site-packages', 'C:\\\\Users\\\\hushi\\\\AppData\\\\Roaming\\\\Python\\\\Python38\\\\site-packages\\\\IPython\\\\extensions', 'C:\\\\Users\\\\hushi\\\\.ipython']\n"
     ]
    }
   ],
   "source": [
    "# use sys.\n",
    "import sys\n",
    "print(sys.version,\"\\n\",sys.path)"
   ]
  },
  {
   "cell_type": "code",
   "execution_count": 37,
   "metadata": {},
   "outputs": [
    {
     "output_type": "stream",
     "name": "stdout",
     "text": [
      "<class 'int'> <class 'float'> <class 'bool'> <class 'complex'>\n"
     ]
    },
    {
     "output_type": "execute_result",
     "data": {
      "text/plain": [
       "True"
      ]
     },
     "metadata": {},
     "execution_count": 37
    }
   ],
   "source": [
    "# Number\n",
    "a, b, c, d = 20, 5.5, True, 4+3j\n",
    "print(type(a), type(b), type(c), type(d))\n",
    "isinstance(a, int)"
   ]
  },
  {
   "cell_type": "code",
   "execution_count": 45,
   "metadata": {},
   "outputs": [
    {
     "output_type": "stream",
     "name": "stdout",
     "text": [
      "Abcdefg\nAbcdef\nA\ncde\ncdefg\nAbcdefgAbcdefg\nAbcdefgTest\n--------------------------------------\nthis is a test \n\nthis is a test \\n\n--------------------------------------\nThis is str1.\nThis is str2.\nThis is str1.  This is str2.\n"
     ]
    }
   ],
   "source": [
    "# Strinh\n",
    "str = 'Abcdefg'\n",
    "\n",
    "print (str)          # 输出字符串\n",
    "print (str[0:-1])    # 输出第一个到倒数第二个的所有字符\n",
    "print (str[0])       # 输出字符串第一个字符\n",
    "print (str[2:5])     # 输出从第三个开始到第五个的字符\n",
    "print (str[2:])      # 输出从第三个开始的后的所有字符\n",
    "print (str * 2)      # 输出字符串两次，也可以写成 print (2 * str)\n",
    "print (str + \"Test\") # 连接字符串\n",
    "print(\"--------------------------------------\")\n",
    "\n",
    "# use r and \\\n",
    "print(\"this is a test \\n\")\n",
    "print(r\"this is a test \\n\")\n",
    "str=\"this is a test.\"\n",
    "print(\"--------------------------------------\")\n",
    "\n",
    "# use end=\"\"\n",
    "str1=\"This is str1.\"\n",
    "str2=\"This is str2.\"\n",
    "print(str1)\n",
    "print(str2)\n",
    "print(str1,\" \",end=\"\")\n",
    "print(str2)"
   ]
  },
  {
   "cell_type": "code",
   "execution_count": 58,
   "metadata": {},
   "outputs": [
    {
     "output_type": "stream",
     "name": "stdout",
     "text": [
      "['abcd', 786, 2.23, 'runoob', 70.2]\nabcd\n[786, 2.23]\n[786, 'runoob']\n[2.23, 'runoob', 70.2]\n[123, 'hsh', 123, 'hsh']\n['abcd', 786, 2.23, 'runoob', 70.2, 123, 'hsh']\n--------------------------------------\n['change', 786, 2.23, 'runoob', 70.2]\n['change', 786, 'change', 'change', 70.2]\n"
     ]
    }
   ],
   "source": [
    "# List\n",
    "list = [ 'abcd', 786 , 2.23, 'runoob', 70.2 ]\n",
    "tinylist = [123, 'hsh']\n",
    "\n",
    "print (list)            # 输出完整列表\n",
    "print (list[0])         # 输出列表第一个元素\n",
    "print (list[1:3])       # 从第二个开始输出到第三个元素\n",
    "print(list[1:5:2])\n",
    "print (list[2:])        # 输出从第三个元素开始的所有元素\n",
    "print (tinylist * 2)    # 输出两次列表\n",
    "print (list + tinylist) # 连接列表\n",
    "print(\"--------------------------------------\")\n",
    "\n",
    "# change the list\n",
    "list[0]=\"change\"\n",
    "print(list)\n",
    "list[2:4]=[\"change\",\"change\"]\n",
    "print(list)"
   ]
  },
  {
   "cell_type": "code",
   "execution_count": null,
   "metadata": {},
   "outputs": [],
   "source": []
  }
 ]
}